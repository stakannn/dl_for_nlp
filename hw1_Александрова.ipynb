{
  "cells": [
    {
      "cell_type": "markdown",
      "metadata": {
        "id": "IQwlunyE86kE"
      },
      "source": [
        "# 1. Практическое задание. Обучение полносвязной нейронной сети.\n",
        "\n",
        "**ФИО**: Александрова Анна Антоновна\n",
        "\n",
        "### Большая просьба\n",
        "\n",
        "Называйте файл hw1_Фамилия.ipynb"
      ]
    },
    {
      "cell_type": "code",
      "execution_count": 168,
      "metadata": {
        "id": "UyCGfNgA86kF"
      },
      "outputs": [],
      "source": [
        "import numpy as np\n",
        "import torch\n",
        "import cv2\n",
        "\n",
        "from glob import glob\n",
        "from collections import OrderedDict\n",
        "from matplotlib import pyplot as plt\n",
        "\n",
        "from torch import nn\n",
        "from torch.autograd import Function\n",
        "from torch.autograd import gradcheck\n",
        "from torch.optim import Optimizer, Adam\n",
        "from torch.utils.data import Dataset, DataLoader\n",
        "from torchvision import datasets\n",
        "from torchvision import transforms"
      ]
    },
    {
      "cell_type": "markdown",
      "metadata": {
        "id": "uFaWrLT4GkfY"
      },
      "source": [
        "## 1. Загрузка данных (2 балла)"
      ]
    },
    {
      "cell_type": "markdown",
      "metadata": {
        "id": "R930jTYMG6nB"
      },
      "source": [
        "Если вам требуется работать с каким-нибубь набором данных (dataset), то прежде всего проверьте нет ли его среди встроенных наборов данных https://pytorch.org/vision/stable/datasets.html.\n",
        "\n",
        "В текущем домашнем задании мы будем работать с набором данных FashionMNIST. Это не совсем про тексты, но зато он численный и его можно вытянуть в вектор. Это легко и полезно, чтобы отработать разные приемы. Он присутствует в списке встроенных наборов данных, однако мы воспользуемся реализацией только для удобного и быстрого способа скачать наборы данных. Ниже предлагается реализовать собственный класс для считывания, обработки и упаковки данных."
      ]
    },
    {
      "cell_type": "code",
      "execution_count": 169,
      "metadata": {
        "id": "LauGpMvGF5qr"
      },
      "outputs": [],
      "source": [
        "training_data = datasets.FashionMNIST(\n",
        "    root=\"data\",\n",
        "    train=True,\n",
        "    download=True\n",
        ")\n",
        "\n",
        "test_data = datasets.FashionMNIST(\n",
        "    root=\"data\",\n",
        "    train=False,\n",
        "    download=True\n",
        ")"
      ]
    },
    {
      "cell_type": "code",
      "source": [
        "print(type(training_data[0]))\n",
        "print(type(training_data.data), type(training_data.targets))\n",
        "print(training_data.data[0].shape, training_data.targets[0].shape)\n",
        "print(training_data.data[0][0])"
      ],
      "metadata": {
        "colab": {
          "base_uri": "https://localhost:8080/"
        },
        "id": "LeE8ny2m9vJI",
        "outputId": "400c51b1-f099-4b3c-863e-685333e5478b"
      },
      "execution_count": 170,
      "outputs": [
        {
          "output_type": "stream",
          "name": "stdout",
          "text": [
            "<class 'tuple'>\n",
            "<class 'torch.Tensor'> <class 'torch.Tensor'>\n",
            "torch.Size([28, 28]) torch.Size([])\n",
            "tensor([0, 0, 0, 0, 0, 0, 0, 0, 0, 0, 0, 0, 0, 0, 0, 0, 0, 0, 0, 0, 0, 0, 0, 0,\n",
            "        0, 0, 0, 0], dtype=torch.uint8)\n"
          ]
        }
      ]
    },
    {
      "cell_type": "markdown",
      "metadata": {
        "id": "RIT32OCMaLLP"
      },
      "source": [
        "Воспользуемся функцией загрузки данных из репозитория наборов данных."
      ]
    },
    {
      "cell_type": "code",
      "execution_count": 171,
      "metadata": {
        "id": "Fm_cf_hEIapm",
        "colab": {
          "base_uri": "https://localhost:8080/"
        },
        "outputId": "721920bb-496e-4178-909e-1edd51a0452d"
      },
      "outputs": [
        {
          "output_type": "stream",
          "name": "stdout",
          "text": [
            "t10k-images-idx3-ubyte\t   t10k-labels-idx1-ubyte.gz   train-labels-idx1-ubyte\n",
            "t10k-images-idx3-ubyte.gz  train-images-idx3-ubyte     train-labels-idx1-ubyte.gz\n",
            "t10k-labels-idx1-ubyte\t   train-images-idx3-ubyte.gz\n"
          ]
        }
      ],
      "source": [
        "! ls data/FashionMNIST/raw"
      ]
    },
    {
      "cell_type": "code",
      "execution_count": 172,
      "metadata": {
        "id": "-xnY5xk1KBg2"
      },
      "outputs": [],
      "source": [
        "#https://github.com/zalandoresearch/fashion-mnist/blob/master/utils/mnist_reader.py\n",
        "\n",
        "def load_mnist(path, kind='train'):\n",
        "    import os\n",
        "    import gzip\n",
        "    import numpy as np\n",
        "\n",
        "    \"\"\"Load MNIST data from `path`\"\"\"\n",
        "    labels_path = os.path.join(path,\n",
        "                               '%s-labels-idx1-ubyte.gz'\n",
        "                               % kind)\n",
        "    images_path = os.path.join(path,\n",
        "                               '%s-images-idx3-ubyte.gz'\n",
        "                               % kind)\n",
        "\n",
        "    with gzip.open(labels_path, 'rb') as lbpath:\n",
        "        labels = np.frombuffer(lbpath.read(), dtype=np.uint8,\n",
        "                               offset=8)\n",
        "\n",
        "    with gzip.open(images_path, 'rb') as imgpath:\n",
        "        images = np.frombuffer(imgpath.read(), dtype=np.uint8,\n",
        "                               offset=16).reshape(len(labels), 28, 28)\n",
        "\n",
        "    return images, labels"
      ]
    },
    {
      "cell_type": "markdown",
      "metadata": {
        "id": "qHIlWRV0aZnA"
      },
      "source": [
        "Для удобства PyTorch предоставляет ряд базовых классов `Dataset, DataLoader`, от которых предлагается отнаследоваться при разработке пользовательских классов. Базовый класс `Dataset` используется для загрузки и обработки данных, класс `DataLoader` используется для управления процессом загрузки данных, позволяет в многопоточном режиме загружать данные и упаковывать их.\n",
        "Эти вспомогательные классы находятся в модуле `torch.utils.data`.\n",
        "\n",
        "При наследовании от класса `torch.utils.data.Dataset` требуется переопределить метод `__len__`, который возвращает количество примеров в наборе данных, а также метод `__getitem__`, который позволяет получить доступ к примеру из набора данных по индексу."
      ]
    },
    {
      "cell_type": "markdown",
      "metadata": {
        "id": "3jf2e5cPbJV2"
      },
      "source": [
        "Реализуем класс для FasionMnist.\n",
        "\n",
        "Элементами датасета должны являться пары '(np.array, int)', массив имеет размерность `(28, 28)`, тип элемента `np.float32`."
      ]
    },
    {
      "cell_type": "code",
      "source": [
        "class ToTensor:\n",
        "    \"\"\"Convert ndarrays in sample to Tensors.\"\"\"\n",
        "\n",
        "    def __call__(self, images, labels):\n",
        "        return torch.from_numpy(images), torch.from_numpy(labels)"
      ],
      "metadata": {
        "id": "nR2jJsKFUV0y"
      },
      "execution_count": 173,
      "outputs": []
    },
    {
      "cell_type": "code",
      "execution_count": 174,
      "metadata": {
        "id": "snTBHRTQI1bc"
      },
      "outputs": [],
      "source": [
        "import os\n",
        "\n",
        "class FashionMnist(Dataset):\n",
        "    def __init__(self, path, train=True, transform=None):\n",
        "        super().__init__()\n",
        "\n",
        "        self.path = path\n",
        "        self.train = train\n",
        "        if train:\n",
        "          self.images, self.labels = load_mnist(self.path)\n",
        "        else:\n",
        "          self.images, self.labels = load_mnist(self.path, kind='t10k')\n",
        "\n",
        "        self.transform = transform\n",
        "\n",
        "    def __len__(self):\n",
        "        return len(self.labels)\n",
        "\n",
        "    def __getitem__(self, idx):\n",
        "        if self.transform:\n",
        "            sample = self.transform(np.array(self.images[idx], dtype='float64'), np.array(self.labels[idx], dtype='float64'))\n",
        "        return sample"
      ]
    },
    {
      "cell_type": "code",
      "execution_count": 175,
      "metadata": {
        "id": "XVGv_2zBNfpz"
      },
      "outputs": [],
      "source": [
        "test_dataset = FashionMnist(\"data/FashionMNIST/raw\", train=False, transform=ToTensor())\n",
        "train_dataset = FashionMnist(\"data/FashionMNIST/raw\", transform=ToTensor())"
      ]
    },
    {
      "cell_type": "code",
      "source": [
        "print(len(train_dataset), len(test_dataset))"
      ],
      "metadata": {
        "colab": {
          "base_uri": "https://localhost:8080/"
        },
        "id": "faWRIj-bSKWQ",
        "outputId": "a147772e-6f25-4d1d-bc28-c1fe9e0721fa"
      },
      "execution_count": 176,
      "outputs": [
        {
          "output_type": "stream",
          "name": "stdout",
          "text": [
            "60000 10000\n"
          ]
        }
      ]
    },
    {
      "cell_type": "code",
      "source": [
        "print(type(train_dataset[0][0]), type(train_dataset[0][1]))\n",
        "print(train_dataset[0][0].shape, train_dataset[0][1].shape)\n",
        "train_dataset[0]"
      ],
      "metadata": {
        "colab": {
          "base_uri": "https://localhost:8080/"
        },
        "id": "TMMks9pPpKUo",
        "outputId": "1d812e47-9bfc-446e-8ad4-0941811825e5"
      },
      "execution_count": 177,
      "outputs": [
        {
          "output_type": "stream",
          "name": "stdout",
          "text": [
            "<class 'torch.Tensor'> <class 'torch.Tensor'>\n",
            "torch.Size([28, 28]) torch.Size([])\n"
          ]
        },
        {
          "output_type": "execute_result",
          "data": {
            "text/plain": [
              "(tensor([[  0.,   0.,   0.,   0.,   0.,   0.,   0.,   0.,   0.,   0.,   0.,   0.,\n",
              "            0.,   0.,   0.,   0.,   0.,   0.,   0.,   0.,   0.,   0.,   0.,   0.,\n",
              "            0.,   0.,   0.,   0.],\n",
              "         [  0.,   0.,   0.,   0.,   0.,   0.,   0.,   0.,   0.,   0.,   0.,   0.,\n",
              "            0.,   0.,   0.,   0.,   0.,   0.,   0.,   0.,   0.,   0.,   0.,   0.,\n",
              "            0.,   0.,   0.,   0.],\n",
              "         [  0.,   0.,   0.,   0.,   0.,   0.,   0.,   0.,   0.,   0.,   0.,   0.,\n",
              "            0.,   0.,   0.,   0.,   0.,   0.,   0.,   0.,   0.,   0.,   0.,   0.,\n",
              "            0.,   0.,   0.,   0.],\n",
              "         [  0.,   0.,   0.,   0.,   0.,   0.,   0.,   0.,   0.,   0.,   0.,   0.,\n",
              "            1.,   0.,   0.,  13.,  73.,   0.,   0.,   1.,   4.,   0.,   0.,   0.,\n",
              "            0.,   1.,   1.,   0.],\n",
              "         [  0.,   0.,   0.,   0.,   0.,   0.,   0.,   0.,   0.,   0.,   0.,   0.,\n",
              "            3.,   0.,  36., 136., 127.,  62.,  54.,   0.,   0.,   0.,   1.,   3.,\n",
              "            4.,   0.,   0.,   3.],\n",
              "         [  0.,   0.,   0.,   0.,   0.,   0.,   0.,   0.,   0.,   0.,   0.,   0.,\n",
              "            6.,   0., 102., 204., 176., 134., 144., 123.,  23.,   0.,   0.,   0.,\n",
              "            0.,  12.,  10.,   0.],\n",
              "         [  0.,   0.,   0.,   0.,   0.,   0.,   0.,   0.,   0.,   0.,   0.,   0.,\n",
              "            0.,   0., 155., 236., 207., 178., 107., 156., 161., 109.,  64.,  23.,\n",
              "           77., 130.,  72.,  15.],\n",
              "         [  0.,   0.,   0.,   0.,   0.,   0.,   0.,   0.,   0.,   0.,   0.,   1.,\n",
              "            0.,  69., 207., 223., 218., 216., 216., 163., 127., 121., 122., 146.,\n",
              "          141.,  88., 172.,  66.],\n",
              "         [  0.,   0.,   0.,   0.,   0.,   0.,   0.,   0.,   0.,   1.,   1.,   1.,\n",
              "            0., 200., 232., 232., 233., 229., 223., 223., 215., 213., 164., 127.,\n",
              "          123., 196., 229.,   0.],\n",
              "         [  0.,   0.,   0.,   0.,   0.,   0.,   0.,   0.,   0.,   0.,   0.,   0.,\n",
              "            0., 183., 225., 216., 223., 228., 235., 227., 224., 222., 224., 221.,\n",
              "          223., 245., 173.,   0.],\n",
              "         [  0.,   0.,   0.,   0.,   0.,   0.,   0.,   0.,   0.,   0.,   0.,   0.,\n",
              "            0., 193., 228., 218., 213., 198., 180., 212., 210., 211., 213., 223.,\n",
              "          220., 243., 202.,   0.],\n",
              "         [  0.,   0.,   0.,   0.,   0.,   0.,   0.,   0.,   0.,   1.,   3.,   0.,\n",
              "           12., 219., 220., 212., 218., 192., 169., 227., 208., 218., 224., 212.,\n",
              "          226., 197., 209.,  52.],\n",
              "         [  0.,   0.,   0.,   0.,   0.,   0.,   0.,   0.,   0.,   0.,   6.,   0.,\n",
              "           99., 244., 222., 220., 218., 203., 198., 221., 215., 213., 222., 220.,\n",
              "          245., 119., 167.,  56.],\n",
              "         [  0.,   0.,   0.,   0.,   0.,   0.,   0.,   0.,   0.,   4.,   0.,   0.,\n",
              "           55., 236., 228., 230., 228., 240., 232., 213., 218., 223., 234., 217.,\n",
              "          217., 209.,  92.,   0.],\n",
              "         [  0.,   0.,   1.,   4.,   6.,   7.,   2.,   0.,   0.,   0.,   0.,   0.,\n",
              "          237., 226., 217., 223., 222., 219., 222., 221., 216., 223., 229., 215.,\n",
              "          218., 255.,  77.,   0.],\n",
              "         [  0.,   3.,   0.,   0.,   0.,   0.,   0.,   0.,   0.,  62., 145., 204.,\n",
              "          228., 207., 213., 221., 218., 208., 211., 218., 224., 223., 219., 215.,\n",
              "          224., 244., 159.,   0.],\n",
              "         [  0.,   0.,   0.,   0.,  18.,  44.,  82., 107., 189., 228., 220., 222.,\n",
              "          217., 226., 200., 205., 211., 230., 224., 234., 176., 188., 250., 248.,\n",
              "          233., 238., 215.,   0.],\n",
              "         [  0.,  57., 187., 208., 224., 221., 224., 208., 204., 214., 208., 209.,\n",
              "          200., 159., 245., 193., 206., 223., 255., 255., 221., 234., 221., 211.,\n",
              "          220., 232., 246.,   0.],\n",
              "         [  3., 202., 228., 224., 221., 211., 211., 214., 205., 205., 205., 220.,\n",
              "          240.,  80., 150., 255., 229., 221., 188., 154., 191., 210., 204., 209.,\n",
              "          222., 228., 225.,   0.],\n",
              "         [ 98., 233., 198., 210., 222., 229., 229., 234., 249., 220., 194., 215.,\n",
              "          217., 241.,  65.,  73., 106., 117., 168., 219., 221., 215., 217., 223.,\n",
              "          223., 224., 229.,  29.],\n",
              "         [ 75., 204., 212., 204., 193., 205., 211., 225., 216., 185., 197., 206.,\n",
              "          198., 213., 240., 195., 227., 245., 239., 223., 218., 212., 209., 222.,\n",
              "          220., 221., 230.,  67.],\n",
              "         [ 48., 203., 183., 194., 213., 197., 185., 190., 194., 192., 202., 214.,\n",
              "          219., 221., 220., 236., 225., 216., 199., 206., 186., 181., 177., 172.,\n",
              "          181., 205., 206., 115.],\n",
              "         [  0., 122., 219., 193., 179., 171., 183., 196., 204., 210., 213., 207.,\n",
              "          211., 210., 200., 196., 194., 191., 195., 191., 198., 192., 176., 156.,\n",
              "          167., 177., 210.,  92.],\n",
              "         [  0.,   0.,  74., 189., 212., 191., 175., 172., 175., 181., 185., 188.,\n",
              "          189., 188., 193., 198., 204., 209., 210., 210., 211., 188., 188., 194.,\n",
              "          192., 216., 170.,   0.],\n",
              "         [  2.,   0.,   0.,   0.,  66., 200., 222., 237., 239., 242., 246., 243.,\n",
              "          244., 221., 220., 193., 191., 179., 182., 182., 181., 176., 166., 168.,\n",
              "           99.,  58.,   0.,   0.],\n",
              "         [  0.,   0.,   0.,   0.,   0.,   0.,   0.,  40.,  61.,  44.,  72.,  41.,\n",
              "           35.,   0.,   0.,   0.,   0.,   0.,   0.,   0.,   0.,   0.,   0.,   0.,\n",
              "            0.,   0.,   0.,   0.],\n",
              "         [  0.,   0.,   0.,   0.,   0.,   0.,   0.,   0.,   0.,   0.,   0.,   0.,\n",
              "            0.,   0.,   0.,   0.,   0.,   0.,   0.,   0.,   0.,   0.,   0.,   0.,\n",
              "            0.,   0.,   0.,   0.],\n",
              "         [  0.,   0.,   0.,   0.,   0.,   0.,   0.,   0.,   0.,   0.,   0.,   0.,\n",
              "            0.,   0.,   0.,   0.,   0.,   0.,   0.,   0.,   0.,   0.,   0.,   0.,\n",
              "            0.,   0.,   0.,   0.]], dtype=torch.float64),\n",
              " tensor(9., dtype=torch.float64))"
            ]
          },
          "metadata": {},
          "execution_count": 177
        }
      ]
    },
    {
      "cell_type": "markdown",
      "metadata": {
        "id": "JciETIfndiGR"
      },
      "source": [
        "Визуализируйте случайные элементы набора данных."
      ]
    },
    {
      "cell_type": "code",
      "source": [
        "labels_map = {0: 'T-Shirt', 1: 'Trouser', 2: 'Pullover', 3: 'Dress', 4: 'Coat', 5: 'Sandal', 6: 'Shirt', 7: 'Sneaker', 8: 'Bag', 9: 'Ankle Boot',}\n",
        "\n",
        "plt.figure(figsize=(10, 4))\n",
        "c = 0\n",
        "for i, (image, label) in enumerate(train_dataset):\n",
        "    image = image.reshape((28, 28))\n",
        "    plt.subplot(2, 6, i+1)\n",
        "    plt.xticks([])\n",
        "    plt.yticks([])\n",
        "    plt.title(labels_map[label.item()])\n",
        "    plt.imshow(image, cmap=plt.cm.binary)\n",
        "    c += 1\n",
        "    if c == 12:\n",
        "        break\n",
        "plt.show()"
      ],
      "metadata": {
        "id": "vnjh6W6TVKjR",
        "colab": {
          "base_uri": "https://localhost:8080/",
          "height": 338
        },
        "outputId": "a0cbfbdb-edef-455e-f812-c504247d13b5"
      },
      "execution_count": 178,
      "outputs": [
        {
          "output_type": "display_data",
          "data": {
            "text/plain": [
              "<Figure size 1000x400 with 12 Axes>"
            ],
            "image/png": "[encoded data removed]"
          },
          "metadata": {}
        }
      ]
    },
    {
      "cell_type": "markdown",
      "metadata": {
        "id": "320RvzL7PZrI"
      },
      "source": [
        "В конструктор `Dataset` можно передать объект `torchvision.transforms`, который позволяет преобразовать исходные данные. Преобразование `torchvision.transforms.ToTensor` позволяет преобразоать данные из типа `PIL Image` и `numpy.float32` в тип `torch.float32`\n",
        "\n",
        "Реализуйте собственную поддержку преобразований в `FashionMnist`. Проверьте, что приведение типов работает корректно."
      ]
    },
    {
      "cell_type": "code",
      "source": [
        "'''\n",
        "Я использовала этот (такой же) класс в классе FashionMnist, для чего мне нужно было определить его раньше, чем FashionMnist. Ниже просто копия:\n",
        "\n",
        "class ToTensor:\n",
        "    \"\"\"Convert ndarrays in sample to Tensors.\"\"\"\n",
        "\n",
        "    def __call__(self, images, labels):\n",
        "        return torch.from_numpy(images), torch.from_numpy(labels)\n",
        "'''"
      ],
      "metadata": {
        "id": "d4rBB9KrsyOS",
        "colab": {
          "base_uri": "https://localhost:8080/",
          "height": 52
        },
        "outputId": "44aa547a-eacd-48d2-a5eb-96b5dd1b6d28"
      },
      "execution_count": 179,
      "outputs": [
        {
          "output_type": "execute_result",
          "data": {
            "text/plain": [
              "'\\nЯ использовала этот (такой же) класс в классе FashionMnist, для чего мне нужно было определить его раньше, чем FashionMnist. Ниже просто копия:\\n\\nclass ToTensor:\\n    \"\"\"Convert ndarrays in sample to Tensors.\"\"\"\\n\\n    def __call__(self, images, labels):\\n        return torch.from_numpy(images), torch.from_numpy(labels)\\n'"
            ],
            "application/vnd.google.colaboratory.intrinsic+json": {
              "type": "string"
            }
          },
          "metadata": {},
          "execution_count": 179
        }
      ]
    },
    {
      "cell_type": "code",
      "source": [
        "'''\n",
        "А вот ещё разочек проверка работоспособности класса ToTensor:\n",
        "'''\n",
        "print(type(train_dataset[0][0]), type(train_dataset[0][1]))\n",
        "print(train_dataset[0][0].shape, train_dataset[0][1].shape)"
      ],
      "metadata": {
        "colab": {
          "base_uri": "https://localhost:8080/"
        },
        "id": "XACA5pjhx1_O",
        "outputId": "f07f7c09-567f-45bb-accd-df1bf954496a"
      },
      "execution_count": 180,
      "outputs": [
        {
          "output_type": "stream",
          "name": "stdout",
          "text": [
            "<class 'torch.Tensor'> <class 'torch.Tensor'>\n",
            "torch.Size([28, 28]) torch.Size([])\n"
          ]
        }
      ]
    },
    {
      "cell_type": "markdown",
      "metadata": {
        "id": "5Ltavx0QUMnm"
      },
      "source": [
        "Элементы набора данных могут быть объединены в пакеты (batch) явно и неявно. Если данные могут быть сконкатенированы или обЪединены каким-нибудь тривиальным способом, то можно не передавать никаких дополнительных парамертов в `torch.utils.data.Dataloader`."
      ]
    },
    {
      "cell_type": "code",
      "execution_count": 181,
      "metadata": {
        "id": "Cizxx6m0VAI7"
      },
      "outputs": [],
      "source": [
        "test_dataloader = DataLoader(test_dataset, batch_size=15, num_workers=2, shuffle=True)\n",
        "train_dataloader = DataLoader(train_dataset, batch_size=15, num_workers=2, shuffle=True)\n",
        "torch_batch = next(iter(test_dataloader))"
      ]
    },
    {
      "cell_type": "code",
      "source": [
        "print(type(torch_batch), type(torch_batch[0]), type(torch_batch[0][0]))\n",
        "torch_batch"
      ],
      "metadata": {
        "colab": {
          "base_uri": "https://localhost:8080/"
        },
        "id": "lvy8shDqF24m",
        "outputId": "6fc51d61-0302-4236-875a-c1744692c900"
      },
      "execution_count": 182,
      "outputs": [
        {
          "output_type": "stream",
          "name": "stdout",
          "text": [
            "<class 'list'> <class 'torch.Tensor'> <class 'torch.Tensor'>\n"
          ]
        },
        {
          "output_type": "execute_result",
          "data": {
            "text/plain": [
              "[tensor([[[0., 0., 0.,  ..., 0., 0., 0.],\n",
              "          [0., 0., 0.,  ..., 0., 0., 0.],\n",
              "          [0., 0., 0.,  ..., 0., 0., 0.],\n",
              "          ...,\n",
              "          [0., 0., 0.,  ..., 0., 0., 0.],\n",
              "          [0., 0., 0.,  ..., 0., 0., 0.],\n",
              "          [0., 0., 0.,  ..., 0., 0., 0.]],\n",
              " \n",
              "         [[0., 0., 0.,  ..., 0., 0., 0.],\n",
              "          [0., 0., 0.,  ..., 0., 0., 0.],\n",
              "          [0., 0., 0.,  ..., 0., 0., 0.],\n",
              "          ...,\n",
              "          [0., 0., 0.,  ..., 0., 0., 0.],\n",
              "          [0., 0., 0.,  ..., 0., 0., 0.],\n",
              "          [0., 0., 0.,  ..., 0., 0., 0.]],\n",
              " \n",
              "         [[0., 0., 0.,  ..., 0., 0., 0.],\n",
              "          [0., 0., 0.,  ..., 0., 0., 0.],\n",
              "          [0., 0., 0.,  ..., 0., 0., 0.],\n",
              "          ...,\n",
              "          [0., 0., 0.,  ..., 0., 0., 0.],\n",
              "          [0., 0., 0.,  ..., 0., 0., 0.],\n",
              "          [0., 0., 0.,  ..., 0., 0., 0.]],\n",
              " \n",
              "         ...,\n",
              " \n",
              "         [[0., 0., 0.,  ..., 0., 0., 0.],\n",
              "          [0., 0., 0.,  ..., 0., 0., 0.],\n",
              "          [0., 0., 0.,  ..., 0., 0., 0.],\n",
              "          ...,\n",
              "          [0., 0., 0.,  ..., 0., 0., 0.],\n",
              "          [0., 0., 0.,  ..., 0., 0., 0.],\n",
              "          [0., 0., 0.,  ..., 0., 0., 0.]],\n",
              " \n",
              "         [[0., 0., 0.,  ..., 0., 0., 0.],\n",
              "          [0., 0., 0.,  ..., 0., 0., 0.],\n",
              "          [0., 0., 0.,  ..., 0., 0., 0.],\n",
              "          ...,\n",
              "          [0., 0., 0.,  ..., 0., 0., 0.],\n",
              "          [0., 0., 0.,  ..., 0., 0., 0.],\n",
              "          [0., 0., 0.,  ..., 0., 0., 0.]],\n",
              " \n",
              "         [[0., 0., 0.,  ..., 0., 0., 0.],\n",
              "          [0., 0., 0.,  ..., 0., 0., 0.],\n",
              "          [0., 0., 0.,  ..., 0., 0., 0.],\n",
              "          ...,\n",
              "          [0., 0., 0.,  ..., 0., 0., 0.],\n",
              "          [0., 0., 0.,  ..., 0., 0., 0.],\n",
              "          [0., 0., 0.,  ..., 0., 0., 0.]]], dtype=torch.float64),\n",
              " tensor([6., 3., 1., 6., 3., 6., 9., 8., 0., 7., 1., 1., 4., 2., 2.],\n",
              "        dtype=torch.float64)]"
            ]
          },
          "metadata": {},
          "execution_count": 182
        }
      ]
    },
    {
      "cell_type": "code",
      "execution_count": 183,
      "metadata": {
        "id": "SIZiPrBgVwGA",
        "colab": {
          "base_uri": "https://localhost:8080/"
        },
        "outputId": "19db204a-0758-4118-bcef-0e25dca361c1"
      },
      "outputs": [
        {
          "output_type": "stream",
          "name": "stdout",
          "text": [
            "The length of the batch is 2\n",
            "The shape of the batch[0] is torch.Size([15, 28, 28])\n"
          ]
        }
      ],
      "source": [
        "print(f\"The length of the batch is {len(torch_batch)}\")\n",
        "print(f\"The shape of the batch[0] is {torch_batch[0].shape}\")"
      ]
    },
    {
      "cell_type": "markdown",
      "metadata": {
        "id": "BCggRyOQWVIx"
      },
      "source": [
        "Однако, если наша структура данных не позволяет нам использовать объединение по умолчанию, то можно написать собственную функцию, которая будет пакетировать данные.\n",
        "\n",
        "Реализуйте функцию, преобразующую последовательность элементов массива в пакет (batch)."
      ]
    },
    {
      "cell_type": "code",
      "source": [
        "def collate_function(dataset, batch_size):\n",
        "    all_batches = []\n",
        "    one_batch = []\n",
        "    one_batch_images = []\n",
        "    one_batch_labels = []\n",
        "    for sample in dataset:\n",
        "        one_batch_images.append(sample[0])\n",
        "        one_batch_labels.append(sample[1])\n",
        "        if len(one_batch_labels) == batch_size:\n",
        "            one_batch = [torch.stack(one_batch_images), torch.tensor(one_batch_labels)]\n",
        "            all_batches.append(one_batch)\n",
        "            one_batch = []\n",
        "            one_batch_images = []\n",
        "            one_batch_labels = []\n",
        "    return all_batches"
      ],
      "metadata": {
        "id": "TJ_FFbxlzAoV"
      },
      "execution_count": 184,
      "outputs": []
    },
    {
      "cell_type": "markdown",
      "metadata": {
        "id": "Wij6F-vpe7KS"
      },
      "source": [
        "Убедитесть, что все работает корректно."
      ]
    },
    {
      "cell_type": "code",
      "source": [
        "batch_size = 15"
      ],
      "metadata": {
        "id": "k-v1JkfVPSzh"
      },
      "execution_count": 185,
      "outputs": []
    },
    {
      "cell_type": "code",
      "execution_count": 186,
      "metadata": {
        "id": "4dDtlvlCXNbW"
      },
      "outputs": [],
      "source": [
        "test_dataloader = collate_function(test_dataset, batch_size)\n",
        "train_dataloader = collate_function(train_dataset, batch_size)\n",
        "batch = next(iter(test_dataloader))"
      ]
    },
    {
      "cell_type": "code",
      "source": [
        "print(len(test_dataloader), len(train_dataloader))\n",
        "print(type(batch), type(batch[0]), type(batch[0][0]))"
      ],
      "metadata": {
        "colab": {
          "base_uri": "https://localhost:8080/"
        },
        "id": "579b4-SJ1Xbr",
        "outputId": "4bad6407-f11e-4cc4-8bad-c0293ff9cfed"
      },
      "execution_count": 187,
      "outputs": [
        {
          "output_type": "stream",
          "name": "stdout",
          "text": [
            "666 4000\n",
            "<class 'list'> <class 'torch.Tensor'> <class 'torch.Tensor'>\n"
          ]
        }
      ]
    },
    {
      "cell_type": "code",
      "execution_count": 188,
      "metadata": {
        "id": "PFN00IyZXYaF",
        "colab": {
          "base_uri": "https://localhost:8080/"
        },
        "outputId": "ebbad76b-82cc-48ab-f282-0177ce3cf4f4"
      },
      "outputs": [
        {
          "output_type": "stream",
          "name": "stdout",
          "text": [
            "The length of the batch is 2\n",
            "The shape of the batch[0] is torch.Size([15, 28, 28])\n"
          ]
        }
      ],
      "source": [
        "print(f\"The length of the batch is {len(batch)}\")\n",
        "print(f\"The shape of the batch[0] is {batch[0].shape}\")"
      ]
    },
    {
      "cell_type": "markdown",
      "metadata": {
        "id": "VHcumwuF86kL"
      },
      "source": [
        "## 2. Реализация модулей нейронной сети (3 балла)\n",
        "\n",
        "В этом разделе мы полностью реализуем модули для полносвязанной сети.\n",
        "\n",
        "Для начала нам понадобится реализовать прямой и обратный проход через слои.\n",
        "\n",
        "Наши слои будут соответствовать следующему интерфейсу (на примере \"тождественного\" слоя):"
      ]
    },
    {
      "cell_type": "markdown",
      "metadata": {
        "id": "zzhCW5HcfmKd"
      },
      "source": [
        "Сначала, мы реализуем функцию и её градиент."
      ]
    },
    {
      "cell_type": "code",
      "execution_count": 189,
      "metadata": {
        "id": "rcqeFXxsFGQO"
      },
      "outputs": [],
      "source": [
        "class IdentityFunction(Function):\n",
        "    \"\"\"\n",
        "    We can implement our own custom autograd Functions by subclassing\n",
        "    torch.autograd.Function and implementing the forward and backward passes\n",
        "    which operate on Tensors.\n",
        "    \"\"\"\n",
        "    @staticmethod\n",
        "    def forward(ctx, input):\n",
        "        \"\"\"\n",
        "        In the forward pass we receive a Tensor containing the input and return\n",
        "        a Tensor containing the output. ctx is a context object that can be used\n",
        "        to stash information for backward computation. You can cache arbitrary\n",
        "        objects for use in the backward pass using the ctx.save_for_backward method.\n",
        "        \"\"\"\n",
        "        ctx.save_for_backward(input)\n",
        "        return input\n",
        "\n",
        "    @staticmethod\n",
        "    def backward(ctx, grad_output):\n",
        "        \"\"\"\n",
        "        In the backward pass we receive a Tensor containing the gradient of the loss\n",
        "        with respect to the output, and we need to compute the gradient of the loss\n",
        "        with respect to the input.\n",
        "        \"\"\"\n",
        "        (input, ) = ctx.saved_tensors\n",
        "        return grad_output"
      ]
    },
    {
      "cell_type": "markdown",
      "metadata": {
        "id": "jc6Rtczffxv4"
      },
      "source": [
        "Разработанную функцию обернем классом `IdentityLayer`, все слои в `PyTorch` должны быть наследниками базового класса `nn.Module()`\n"
      ]
    },
    {
      "cell_type": "code",
      "execution_count": 190,
      "metadata": {
        "id": "SiqeRVcM86kM"
      },
      "outputs": [],
      "source": [
        "class IdentityLayer(nn.Module):\n",
        "    def __init__(self):\n",
        "        # An identity layer does nothing\n",
        "        super().__init__()\n",
        "        self.identity = IdentityFunction.apply\n",
        "\n",
        "    def forward(self, inp):\n",
        "        # An identity layer just returns whatever it gets as input.\n",
        "        return self.identity(inp)"
      ]
    },
    {
      "cell_type": "markdown",
      "metadata": {
        "id": "N4IoM_pX86kQ"
      },
      "source": [
        "\n",
        "### 2.1 Функция активации ReLU\n",
        "Для начала реализуем функцию активации, слой нелинейности `ReLU(x) = max(x, 0)`. Параметров у слоя нет. Метод `forward` должен вернуть результат поэлементного применения `ReLU` к входному массиву, метод `backward` - градиент функции потерь по входу слоя. В нуле будем считать производную равной 0. Обратите внимание, что при обратном проходе могут понадобиться величины, посчитанные во время прямого прохода, поэтому их стоит сохранить в `ctx`."
      ]
    },
    {
      "cell_type": "code",
      "execution_count": 191,
      "metadata": {
        "id": "U9qrJ47xY6H0"
      },
      "outputs": [],
      "source": [
        "class ReLUFunction(Function):\n",
        "    @staticmethod\n",
        "    def forward(ctx, input):\n",
        "        ctx.save_for_backward(input)\n",
        "        return torch.where(input < 0.0, 0.0, input)\n",
        "\n",
        "    @staticmethod\n",
        "    def backward(ctx, grad_output):\n",
        "        (input, ) = ctx.saved_tensors\n",
        "        out = torch.where(input <= 0, 0, 1)\n",
        "        return grad_output * out\n"
      ]
    },
    {
      "cell_type": "code",
      "execution_count": 192,
      "metadata": {
        "id": "y09ZVCsT86kT"
      },
      "outputs": [],
      "source": [
        "class ReLU(nn.Module):\n",
        "    def __init__(self):\n",
        "\n",
        "        super().__init__()\n",
        "        self.relu = ReLUFunction.apply\n",
        "\n",
        "    def forward(self, input):\n",
        "\n",
        "        return self.relu(input)\n"
      ]
    },
    {
      "cell_type": "markdown",
      "metadata": {
        "id": "2RwKEUp_V3-L"
      },
      "source": [
        "Не забываем после реализации функции проверить градиент, испльзуя функцию `gradcheck`."
      ]
    },
    {
      "cell_type": "code",
      "execution_count": 193,
      "metadata": {
        "id": "K0RnDQZCXXZn"
      },
      "outputs": [],
      "source": [
        "torch.manual_seed(0)\n",
        "\n",
        "x = torch.rand((7,15), requires_grad = True, dtype=torch.double)\n",
        "relu = ReLU()\n",
        "\n",
        "assert gradcheck(relu, x)"
      ]
    },
    {
      "cell_type": "code",
      "execution_count": 194,
      "metadata": {
        "id": "vUmbmR4iXurd"
      },
      "outputs": [],
      "source": [
        "torch_relu = torch.relu\n",
        "our_relu = ReLU()\n",
        "\n",
        "assert torch.norm(torch_relu(x.float()) - our_relu(x)) < 1e-5"
      ]
    },
    {
      "cell_type": "markdown",
      "metadata": {
        "id": "ojTR4GFd86kY"
      },
      "source": [
        "### 2.2 Линейный слой (linear, fully-connected)\n",
        "Далее реализуем полносвязный слой без нелинейности. У слоя два набора параметров: матрица весов (weights) и вектор смещения (bias)."
      ]
    },
    {
      "cell_type": "code",
      "execution_count": 195,
      "metadata": {
        "id": "fBl34oykbcBf"
      },
      "outputs": [],
      "source": [
        "class LinearFunction(Function):\n",
        "    @staticmethod\n",
        "    def forward(ctx, inp, weight, bias):\n",
        "        ctx.save_for_backward(inp, weight, bias)\n",
        "\n",
        "        output = (inp @ weight.T) + bias\n",
        "        return output\n",
        "\n",
        "    @staticmethod\n",
        "    def backward(ctx, grad_output):\n",
        "        (inp, weight, bias) = ctx.saved_tensors\n",
        "\n",
        "        grad_bias = grad_output.sum(0)\n",
        "        grad_weight = grad_output.T @ inp\n",
        "        grad_input =  grad_output @ weight\n",
        "\n",
        "        return grad_input, grad_weight, grad_bias"
      ]
    },
    {
      "cell_type": "code",
      "execution_count": 196,
      "metadata": {
        "id": "YbN5JOc886kZ"
      },
      "outputs": [],
      "source": [
        "class Linear(nn.Module):\n",
        "    def __init__(self, input_units, output_units):\n",
        "        super().__init__()\n",
        "\n",
        "        self.weight = torch.nn.Parameter(torch.rand(size=(output_units, input_units), dtype=torch.double, requires_grad=True))\n",
        "        self.bias = torch.nn.Parameter(torch.rand(size=(output_units,), dtype=torch.double))\n",
        "        self.linear = LinearFunction.apply\n",
        "\n",
        "    def forward(self,inp):\n",
        "        return self.linear(inp, self.weight, self.bias)\n"
      ]
    },
    {
      "cell_type": "markdown",
      "metadata": {
        "id": "gToXI43WYMDv"
      },
      "source": [
        "Проверим градиент, а также сравним с работой нашего модуля с имплементированным в `PyTorch`."
      ]
    },
    {
      "cell_type": "markdown",
      "metadata": {
        "id": "et7mKX5xZfMI"
      },
      "source": [
        "Проверка градиента:"
      ]
    },
    {
      "cell_type": "code",
      "execution_count": 197,
      "metadata": {
        "id": "PxLVozqLZb_H"
      },
      "outputs": [],
      "source": [
        "torch.manual_seed(0)\n",
        "\n",
        "x = torch.rand((6,12), requires_grad = True, dtype=torch.double)\n",
        "linear = Linear(12, 14)\n",
        "\n",
        "assert gradcheck(linear, x)"
      ]
    },
    {
      "cell_type": "markdown",
      "metadata": {
        "id": "pW8ppOciZndN"
      },
      "source": [
        "Сравнение с `PyTorch`."
      ]
    },
    {
      "cell_type": "code",
      "execution_count": 198,
      "metadata": {
        "id": "IIR9svs7Zmq0"
      },
      "outputs": [],
      "source": [
        "output_units = 32\n",
        "input_units = 15\n",
        "\n",
        "x = torch.rand((16,15), requires_grad = True, dtype=torch.double)\n",
        "\n",
        "\n",
        "weight = torch.rand(size=(output_units, input_units), dtype=torch.double)\n",
        "bias = torch.rand(size=(output_units,), dtype=torch.double)\n",
        "\n",
        "torch_linear = torch.nn.Linear(input_units, output_units, dtype=torch.double)\n",
        "our_linear = Linear(input_units, output_units)\n",
        "\n",
        "\n",
        "state_dict = OrderedDict([(\"weight\", weight), (\"bias\", bias)])\n",
        "torch_linear.load_state_dict(state_dict)\n",
        "our_linear.load_state_dict(state_dict)\n",
        "\n",
        "\n",
        "\n",
        "torch_forward = torch_linear.forward(x)\n",
        "our_forward = our_linear(x)\n",
        "assert torch.allclose(torch_forward, our_forward)"
      ]
    },
    {
      "cell_type": "markdown",
      "metadata": {
        "id": "kmzKDpyE86lg"
      },
      "source": [
        "## 3. Сборка и обучение нейронной сети (5 баллов)"
      ]
    },
    {
      "cell_type": "markdown",
      "metadata": {
        "id": "mPqlZfj_86lg"
      },
      "source": [
        "Реализуйте произвольную нейросеть, состоящую из ваших блоков. Она должна состоять из нескольких полносвязанных слоев."
      ]
    },
    {
      "cell_type": "markdown",
      "source": [
        "Я вижу, что моя модель выдаёт не то, что нужно. У меня получаются тензоры с девятью отрицательными значениями и один нулем. Кажется, должно быть что-то другое))\n",
        "Но уже головы не хватает понять, в чем проблема, поэтому сдаюсь как есть"
      ],
      "metadata": {
        "id": "ViXbU5bWwVFY"
      }
    },
    {
      "cell_type": "code",
      "source": [
        "class Network(nn.Module):\n",
        "    def __init__(self, input_size=28*28, hidden_layers_size=32, num_layers=5,\n",
        "                 num_classes=10):\n",
        "        super().__init__()\n",
        "\n",
        "        self.first_layer = nn.Sequential(\n",
        "            Linear(input_size, hidden_layers_size),\n",
        "            ReLU(),\n",
        "            nn.Dropout(0.2)\n",
        "        )\n",
        "\n",
        "        hidden_layer_funcs = nn.ModuleList()\n",
        "        for i in range(num_layers-2):\n",
        "            hidden_layer_funcs.append(Linear(hidden_layers_size, hidden_layers_size))\n",
        "            hidden_layer_funcs.append(ReLU())\n",
        "            hidden_layer_funcs.append(nn.Dropout(0.2))\n",
        "\n",
        "        self.hidden = nn.Sequential(*hidden_layer_funcs)\n",
        "        self.pre_last_layer = Linear(hidden_layers_size, num_classes)\n",
        "        self.last_layer = nn.LogSoftmax(dim=0)\n",
        "\n",
        "\n",
        "    def forward(self, inp):\n",
        "        x = self.first_layer(inp)\n",
        "        x = self.hidden(x)\n",
        "        x = self.pre_last_layer(x)\n",
        "        x = self.last_layer(x)\n",
        "        return x"
      ],
      "metadata": {
        "id": "E7Br0r5be5kR"
      },
      "execution_count": 199,
      "outputs": []
    },
    {
      "cell_type": "markdown",
      "metadata": {
        "id": "Vj-eEvMFfbSo"
      },
      "source": [
        "Ниже вам предстоит написать цикл обучения. Сначала это бывает больно, но потом уже на автомате делается, в начале так всегда\n"
      ]
    },
    {
      "cell_type": "code",
      "execution_count": 200,
      "metadata": {
        "id": "vDhcoCB4OpXE"
      },
      "outputs": [],
      "source": [
        "class EmptyContext:\n",
        "    def __enter__(self):\n",
        "        pass\n",
        "\n",
        "    def __exit__(self, *args):\n",
        "        pass"
      ]
    },
    {
      "cell_type": "code",
      "execution_count": 201,
      "metadata": {
        "id": "8AsWblqIOquI"
      },
      "outputs": [],
      "source": [
        "# accuracy metric for our classififcation\n",
        "def accuracy(model_labels, labels):\n",
        "  return torch.mean((model_labels == labels).float())"
      ]
    },
    {
      "cell_type": "code",
      "source": [
        "my_dataloader = train_dataloader[:100] # это просто для отладки функций ниже"
      ],
      "metadata": {
        "id": "_AFVelrVmZnr"
      },
      "execution_count": 202,
      "outputs": []
    },
    {
      "cell_type": "code",
      "execution_count": 212,
      "metadata": {
        "id": "Oy33FHuv_Us-"
      },
      "outputs": [],
      "source": [
        "def perform_epoch(model, loader, criterion, optimizer=None, device=None):\n",
        "    is_train = optimizer is not None\n",
        "    if device:\n",
        "        model.to(device)\n",
        "    model.train()\n",
        "    losses = []\n",
        "    accuracy_s = []\n",
        "    for images, labels in loader:\n",
        "        images.to(device)\n",
        "        labels.to(device)\n",
        "        for i, image in enumerate(images):\n",
        "            optimizer.zero_grad()\n",
        "            output = model(image.flatten())  #так и не поняла, почему у меня получается 9 отрицательных вероятностей и одна нулевая....\n",
        "            model_label = list(output).index(0)  #решила счиатать правильным ответом индекс нуля в получившемся тензоре, хотя это ерунда, конечно\n",
        "            loss = criterion(torch.tensor(model_label), labels[i])\n",
        "            loss.requires_grad = True\n",
        "            accuracy_s.append(accuracy(model_label, labels[i]).item())\n",
        "            loss.backward()\n",
        "            optimizer.step()\n",
        "            losses.append(loss.item())\n",
        "\n",
        "    return np.mean(losses), np.mean(accuracy_s)"
      ]
    },
    {
      "cell_type": "markdown",
      "metadata": {
        "id": "FtamPEJZgOY5"
      },
      "source": [
        "Теперь обучим нашу нейронную сеть."
      ]
    },
    {
      "cell_type": "code",
      "execution_count": 213,
      "metadata": {
        "id": "mEcyUJJI_aAn",
        "colab": {
          "base_uri": "https://localhost:8080/"
        },
        "outputId": "842ba9b3-eec9-4a90-f457-228240c340d6"
      },
      "outputs": [
        {
          "output_type": "stream",
          "name": "stdout",
          "text": [
            "Epoch - 0 : loss 11.436666666666667, accuracy 0.10466666666666667\n",
            "Epoch - 1 : loss 11.422, accuracy 0.09266666666666666\n",
            "Epoch - 2 : loss 11.619333333333334, accuracy 0.096\n",
            "Epoch - 3 : loss 11.628666666666666, accuracy 0.09933333333333333\n",
            "Epoch - 4 : loss 11.404, accuracy 0.09733333333333333\n"
          ]
        }
      ],
      "source": [
        "model = Network()\n",
        "criterion = nn.MSELoss()\n",
        "optimizer = torch.optim.SGD(model.parameters(), lr=1e-6)\n",
        "device = torch.device(\"cpu\")\n",
        "epochs = 5\n",
        "for epoch in range(epochs):\n",
        "    losses = []\n",
        "    loss, acc = perform_epoch(model, my_dataloader, criterion, optimizer, device)\n",
        "    losses.append(loss)\n",
        "    print(f\"Epoch - {epoch} : loss {loss}, accuracy {acc}\")"
      ]
    },
    {
      "cell_type": "code",
      "source": [
        "model"
      ],
      "metadata": {
        "colab": {
          "base_uri": "https://localhost:8080/"
        },
        "id": "Y7z-lvMq3B2Z",
        "outputId": "efb0431c-1849-42e7-a5c7-ad5ca45ef060"
      },
      "execution_count": 214,
      "outputs": [
        {
          "output_type": "execute_result",
          "data": {
            "text/plain": [
              "Network(\n",
              "  (first_layer): Sequential(\n",
              "    (0): Linear()\n",
              "    (1): ReLU()\n",
              "    (2): Dropout(p=0.2, inplace=False)\n",
              "  )\n",
              "  (hidden): Sequential(\n",
              "    (0): Linear()\n",
              "    (1): ReLU()\n",
              "    (2): Dropout(p=0.2, inplace=False)\n",
              "    (3): Linear()\n",
              "    (4): ReLU()\n",
              "    (5): Dropout(p=0.2, inplace=False)\n",
              "    (6): Linear()\n",
              "    (7): ReLU()\n",
              "    (8): Dropout(p=0.2, inplace=False)\n",
              "  )\n",
              "  (pre_last_layer): Linear()\n",
              "  (last_layer): LogSoftmax(dim=0)\n",
              ")"
            ]
          },
          "metadata": {},
          "execution_count": 214
        }
      ]
    },
    {
      "cell_type": "markdown",
      "metadata": {
        "id": "WS41CQj0Y6Q8"
      },
      "source": [
        "Дальше:\n",
        "- Проведите эксперименты с числом слоев.\n",
        "- Постройте графики зависимости качества модели на тренировочной и тестовой выборках от числа слоев. Для получения статистически значимых результатов повторите эксперименты несколько раз.\n",
        "- Сделайте выводы."
      ]
    },
    {
      "cell_type": "markdown",
      "metadata": {
        "id": "d3vcONKQ86mu"
      },
      "source": [
        "## 4. Бонусная часть."
      ]
    },
    {
      "cell_type": "markdown",
      "metadata": {
        "id": "Kuhxy7aW86mu"
      },
      "source": [
        "### 4.1 Реализация метода оптимизации (1 балл).\n",
        "Реализуйте сами метод оптимизации  для рассмотренной выше архитектуры. Вы можете выбрать произвольный метод от градиентного спуска до современных вариантов. Продемонстрируйте правильную работу метода оптимизации, сравните его работы с Adam.\n",
        "\n",
        "**Дополнительные баллы** вы получите, если метод будет уникален среди сдавших задание."
      ]
    },
    {
      "cell_type": "code",
      "execution_count": null,
      "metadata": {
        "id": "GYMu0uF1p6o0"
      },
      "outputs": [],
      "source": [
        "class SotaOptimizer(Optimizer):\n",
        "    def __init__(self, params, lr=1e-3):\n",
        "        defaults = dict(lr=lr)\n",
        "        super(SotaOptimizer, self).__init__(params, defaults)\n",
        "\n",
        "    def __setstate__(self, state):\n",
        "        super(SotaOptimizer, self).__setstate__(state)\n",
        "\n",
        "    @torch.no_grad()\n",
        "    def step(self,):\n",
        "\n",
        "        for group in self.param_groups:\n",
        "            lr = group['lr']\n",
        "            for p in group['params']:\n",
        "                if p.grad is not None:\n",
        "                    p.data.add_(-lr*p.grad)"
      ]
    },
    {
      "cell_type": "markdown",
      "metadata": {
        "id": "d3aabYCykXL7"
      },
      "source": [
        "### 4.2 Реализация современной функции активации (1 балл).\n",
        "Реализуйте одну из современных функций активации. Например, `Hardswish` или `GELU`. Сравните сеть с вашей активацией и с `ReLU`.\n",
        "\n",
        "**Дополнительные баллы** вы получите, если функция будет уникальна среди сдавших задание."
      ]
    }
  ],
  "metadata": {
    "accelerator": "GPU",
    "colab": {
      "provenance": [],
      "collapsed_sections": [
        "d3vcONKQ86mu"
      ]
    },
    "kernelspec": {
      "display_name": "Python 3",
      "language": "python",
      "name": "python3"
    },
    "language_info": {
      "codemirror_mode": {
        "name": "ipython",
        "version": 3
      },
      "file_extension": ".py",
      "mimetype": "text/x-python",
      "name": "python",
      "nbconvert_exporter": "python",
      "pygments_lexer": "ipython3",
      "version": "3.7.16"
    },
    "vscode": {
      "interpreter": {
        "hash": "92d26938485ea6bea67bf2e2bb4662b06e39d7cc20cef26f940ca706eab939d3"
      }
    }
  },
  "nbformat": 4,
  "nbformat_minor": 0
}